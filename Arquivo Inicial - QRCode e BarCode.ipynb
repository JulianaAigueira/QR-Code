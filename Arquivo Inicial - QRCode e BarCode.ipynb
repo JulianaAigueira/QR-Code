{
 "cells": [
  {
   "cell_type": "markdown",
   "id": "269f76a6",
   "metadata": {},
   "source": [
    "### Exemplo: Lista de Produtos de um E-commerce"
   ]
  },
  {
   "cell_type": "code",
   "execution_count": 1,
   "id": "03bd9cf4",
   "metadata": {},
   "outputs": [],
   "source": [
    "import qrcode\n",
    "\n",
    "imagem_qrcode = qrcode.make('https://www.linkedin.com/in/juliana-aigueira/')\n",
    "imagem_qrcode.save('qrcode_linkedin.png')\n"
   ]
  },
  {
   "cell_type": "code",
   "execution_count": 2,
   "id": "10150016",
   "metadata": {},
   "outputs": [],
   "source": [
    "links_redes = {\n",
    "    \"Linkedin\": \"https://www.linkedin.com/in/juliana-aigueira/\",\n",
    "    \"Github\": \"https://github.com/JulianaAigueira?tab=repositories\",\n",
    "    \"Python\": \"https://www.python.org/\",\n",
    "}\n",
    "\n",
    "for rede in links_redes:\n",
    "    link = links_redes[rede]\n",
    "    imagem_qrcode = qrcode.make(link)\n",
    "    imagem_qrcode.save(f'qrcode_{rede}.png')"
   ]
  },
  {
   "cell_type": "code",
   "execution_count": null,
   "id": "955803f9",
   "metadata": {},
   "outputs": [],
   "source": []
  }
 ],
 "metadata": {
  "kernelspec": {
   "display_name": "Python 3 (ipykernel)",
   "language": "python",
   "name": "python3"
  },
  "language_info": {
   "codemirror_mode": {
    "name": "ipython",
    "version": 3
   },
   "file_extension": ".py",
   "mimetype": "text/x-python",
   "name": "python",
   "nbconvert_exporter": "python",
   "pygments_lexer": "ipython3",
   "version": "3.9.13"
  }
 },
 "nbformat": 4,
 "nbformat_minor": 5
}
